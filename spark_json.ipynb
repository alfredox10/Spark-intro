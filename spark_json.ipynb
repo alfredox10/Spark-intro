{
 "cells": [
  {
   "cell_type": "code",
   "execution_count": 2,
   "metadata": {
    "collapsed": false
   },
   "outputs": [
    {
     "name": "stdout",
     "output_type": "stream",
     "text": [
      "root\n",
      " |-- age: long (nullable = true)\n",
      " |-- name: string (nullable = true)\n",
      "\n"
     ]
    }
   ],
   "source": [
    "people = sqlContext.read.json(\"examples/src/main/resources/people.json\")\n",
    "people.printSchema()"
   ]
  },
  {
   "cell_type": "code",
   "execution_count": 3,
   "metadata": {
    "collapsed": true
   },
   "outputs": [],
   "source": [
    "people.registerTempTable('people')"
   ]
  },
  {
   "cell_type": "code",
   "execution_count": 4,
   "metadata": {
    "collapsed": false
   },
   "outputs": [
    {
     "name": "stdout",
     "output_type": "stream",
     "text": [
      "+-------+\n",
      "|   name|\n",
      "+-------+\n",
      "|Michael|\n",
      "|   Andy|\n",
      "| Justin|\n",
      "+-------+\n",
      "\n"
     ]
    }
   ],
   "source": [
    "sqlContext.sql(\"select name from people\").show()"
   ]
  },
  {
   "cell_type": "code",
   "execution_count": 7,
   "metadata": {
    "collapsed": false
   },
   "outputs": [],
   "source": [
    "jsonRDD = (sc.wholeTextFiles('all-world-cup-players.json').map(lambda x: x[1]))"
   ]
  },
  {
   "cell_type": "code",
   "execution_count": 9,
   "metadata": {
    "collapsed": true
   },
   "outputs": [],
   "source": [
    "# Spark expects a specific format for JSONs in which they want each line to have\n",
    "# an individual JSON object. So normal JSON files will error out when trying to\n",
    "# load them. This transformation helps put JSON files into a format Spark can read.\n",
    "import re\n",
    "js = jsonRDD.map(lambda x: re.sub(r\"\\s+\", \"\", x, flags=re.UNICODE))"
   ]
  },
  {
   "cell_type": "code",
   "execution_count": 11,
   "metadata": {
    "collapsed": true
   },
   "outputs": [],
   "source": [
    "wc_players = sqlContext.jsonRDD(js)"
   ]
  },
  {
   "cell_type": "code",
   "execution_count": 12,
   "metadata": {
    "collapsed": true
   },
   "outputs": [],
   "source": [
    "wc_players.registerTempTable('players')"
   ]
  },
  {
   "cell_type": "code",
   "execution_count": 13,
   "metadata": {
    "collapsed": false
   },
   "outputs": [
    {
     "name": "stdout",
     "output_type": "stream",
     "text": [
      "+------------------+\n",
      "|              Team|\n",
      "+------------------+\n",
      "|               BEL|\n",
      "|          Bulgaria|\n",
      "|     KoreaRepublic|\n",
      "|            Mexico|\n",
      "|           Denmark|\n",
      "|             Egypt|\n",
      "|            Serbia|\n",
      "|          Portugal|\n",
      "|            Poland|\n",
      "|       WestGermany|\n",
      "|            Norway|\n",
      "|       SovietUnion|\n",
      "|UnitedArabEmirates|\n",
      "|          Slovakia|\n",
      "|          Colombia|\n",
      "|               SUI|\n",
      "|               TCH|\n",
      "|               FRA|\n",
      "|               ARG|\n",
      "|        SouthKorea|\n",
      "+------------------+\n",
      "only showing top 20 rows\n",
      "\n"
     ]
    }
   ],
   "source": [
    "sqlContext.sql(\"select distinct Team from players\").show()"
   ]
  },
  {
   "cell_type": "code",
   "execution_count": null,
   "metadata": {
    "collapsed": true
   },
   "outputs": [],
   "source": []
  }
 ],
 "metadata": {
  "kernelspec": {
   "display_name": "Python 2",
   "language": "python",
   "name": "python2"
  },
  "language_info": {
   "codemirror_mode": {
    "name": "ipython",
    "version": 2
   },
   "file_extension": ".py",
   "mimetype": "text/x-python",
   "name": "python",
   "nbconvert_exporter": "python",
   "pygments_lexer": "ipython2",
   "version": "2.7.6"
  }
 },
 "nbformat": 4,
 "nbformat_minor": 0
}
