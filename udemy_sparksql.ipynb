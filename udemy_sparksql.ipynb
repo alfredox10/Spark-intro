{
 "cells": [
  {
   "cell_type": "code",
   "execution_count": 1,
   "metadata": {
    "collapsed": true
   },
   "outputs": [],
   "source": [
    "# Download jar file from: http://dev.mysql.com/downloads/connector/j/\n",
    "# Pass in jar as argument for iPython:\n",
    "# IPYTHON_OPTS=\"notebook\" ./bin/pyspark --jars mysql-connector-java-5.1.38-bin.jar"
   ]
  },
  {
   "cell_type": "code",
   "execution_count": 3,
   "metadata": {
    "collapsed": false
   },
   "outputs": [],
   "source": [
    "dataframe_mysql = (sqlContext.read.format('jdbc')\n",
    "                  .option('url', 'jdbc:mysql://localhost/uber')\n",
    "                  .option('driver', 'com.mysql.jdbc.Driver')\n",
    "                  .option('dbtable', 'trips').option('user', 'udemy_user')\n",
    "                  .option('password', 'root779').load())\n",
    "                    "
   ]
  },
  {
   "cell_type": "code",
   "execution_count": 4,
   "metadata": {
    "collapsed": false
   },
   "outputs": [
    {
     "name": "stdout",
     "output_type": "stream",
     "text": [
      "+-----------------------+--------+---------------+-----+\n",
      "|dispatching_base_number|    date|active_vehicles|trips|\n",
      "+-----------------------+--------+---------------+-----+\n",
      "|                 B02512|1/1/2015|            190| 1132|\n",
      "|                 B02765|1/1/2015|            225| 1765|\n",
      "|                 B02764|1/1/2015|           3427|29421|\n",
      "|                 B02682|1/1/2015|            945| 7679|\n",
      "|                 B02617|1/1/2015|           1228| 9537|\n",
      "|                 B02598|1/1/2015|            870| 6903|\n",
      "|                 B02598|1/2/2015|            785| 4768|\n",
      "|                 B02617|1/2/2015|           1137| 7065|\n",
      "|                 B02512|1/2/2015|            175|  875|\n",
      "|                 B02682|1/2/2015|            890| 5506|\n",
      "|                 B02765|1/2/2015|            196| 1001|\n",
      "|                 B02764|1/2/2015|           3147|19974|\n",
      "|                 B02765|1/3/2015|            201| 1526|\n",
      "|                 B02617|1/3/2015|           1188|10664|\n",
      "|                 B02598|1/3/2015|            818| 7432|\n",
      "|                 B02682|1/3/2015|            915| 8010|\n",
      "|                 B02512|1/3/2015|            173| 1088|\n",
      "|                 B02764|1/3/2015|           3215|29729|\n",
      "|                 B02512|1/4/2015|            147|  791|\n",
      "|                 B02682|1/4/2015|            812| 5621|\n",
      "+-----------------------+--------+---------------+-----+\n",
      "only showing top 20 rows\n",
      "\n"
     ]
    }
   ],
   "source": [
    "dataframe_mysql.show()"
   ]
  },
  {
   "cell_type": "code",
   "execution_count": 5,
   "metadata": {
    "collapsed": true
   },
   "outputs": [],
   "source": [
    "dataframe_mysql.registerTempTable('trips')"
   ]
  },
  {
   "cell_type": "code",
   "execution_count": 6,
   "metadata": {
    "collapsed": false
   },
   "outputs": [
    {
     "name": "stdout",
     "output_type": "stream",
     "text": [
      "+-----------------------+---------+---------------+-----+\n",
      "|dispatching_base_number|     date|active_vehicles|trips|\n",
      "+-----------------------+---------+---------------+-----+\n",
      "|                 B02512| 1/1/2015|            190| 1132|\n",
      "|                 B02512| 1/2/2015|            175|  875|\n",
      "|                 B02512| 1/3/2015|            173| 1088|\n",
      "|                 B02512| 1/4/2015|            147|  791|\n",
      "|                 B02512| 1/5/2015|            194|  984|\n",
      "|                 B02512| 1/6/2015|            218| 1314|\n",
      "|                 B02512| 1/7/2015|            217| 1446|\n",
      "|                 B02512| 1/8/2015|            238| 1772|\n",
      "|                 B02512| 1/9/2015|            224| 1560|\n",
      "|                 B02512|1/10/2015|            206| 1646|\n",
      "|                 B02512|1/11/2015|            162| 1104|\n",
      "|                 B02512|1/12/2015|            217| 1399|\n",
      "|                 B02512|1/13/2015|            234| 1652|\n",
      "|                 B02512|1/14/2015|            233| 1582|\n",
      "|                 B02512|1/15/2015|            237| 1636|\n",
      "|                 B02512|1/16/2015|            234| 1481|\n",
      "|                 B02512|1/17/2015|            201| 1281|\n",
      "|                 B02512|1/18/2015|            177| 1521|\n",
      "|                 B02512|1/19/2015|            168| 1025|\n",
      "|                 B02512|1/20/2015|            221| 1310|\n",
      "+-----------------------+---------+---------------+-----+\n",
      "only showing top 20 rows\n",
      "\n"
     ]
    }
   ],
   "source": [
    "sqlContext.sql(\"select * from trips where dispatching_base_number like '%2512%'\").show()"
   ]
  },
  {
   "cell_type": "code",
   "execution_count": null,
   "metadata": {
    "collapsed": true
   },
   "outputs": [],
   "source": []
  }
 ],
 "metadata": {
  "kernelspec": {
   "display_name": "Python 2",
   "language": "python",
   "name": "python2"
  },
  "language_info": {
   "codemirror_mode": {
    "name": "ipython",
    "version": 2
   },
   "file_extension": ".py",
   "mimetype": "text/x-python",
   "name": "python",
   "nbconvert_exporter": "python",
   "pygments_lexer": "ipython2",
   "version": "2.7.6"
  }
 },
 "nbformat": 4,
 "nbformat_minor": 0
}
